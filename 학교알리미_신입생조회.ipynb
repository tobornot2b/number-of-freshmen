{
 "cells": [
  {
   "cell_type": "markdown",
   "id": "5006fa9b-8483-48d5-80a9-5d190b09009a",
   "metadata": {},
   "source": [
    "공공데이터 활용하여 신입생 수 받아오기\n",
    "==="
   ]
  },
  {
   "cell_type": "markdown",
   "id": "bcd9b504-29c8-49ba-9ddb-744e872958e4",
   "metadata": {},
   "source": [
    "- 프로그램 제작 목적\n",
    "    1. 입찰데이터를 관리하려면 매년 신입생 수를 시스템에 기입해야 한다.\n",
    "    1. 학교알리미라는 정부사이트에서는 매년 전국학교의 신입생 수를 제공한다.\n",
    "    1. 영업팀에서는 직접 홈페이지를 방문해서 수치를 확인한다.\n",
    "    1. 공공데이터 포탈에는 있는 학교알리미 사이트의 신입생 수 정보 API 가 있다.\n",
    "    1. 정리된 엑셀파일로 영업팀에 신입생 수를 제공하여 업무 효율을 높이자.\n",
    "    \n",
    "- 프로그램에 자동기입까지 전부 자동화하는 것에 대해\n",
    "    1. 제작은 가능하나 전제조건이 성립되지 않아 중단했다.\n",
    "    2. 전제조건\n",
    "        1. 기본적 테이블은 모두 준비되어 있는 상태다.\n",
    "        1. 아이비클럽 실학교 코드의 명칭을 학교알리미의 정식학교 명칭과 통일해야한다.\n",
    "        1. 각 상권담당자들에게 기입을 맡겨놓아 기입룰에 맞지 않는 명칭이 너무 많다.\n",
    "        1. 실 데이터를 전산팀에서 교정하며 진행할 수 있는 분량은 아니고 영업팀에서 의지가 있으면 진행가능하다."
   ]
  },
  {
   "cell_type": "code",
   "execution_count": 1,
   "id": "a0bead23-39d8-4575-8696-bff06f2ad1d1",
   "metadata": {},
   "outputs": [],
   "source": [
    "import requests\n",
    "import pandas as pd\n",
    "import sys"
   ]
  },
  {
   "cell_type": "code",
   "execution_count": 2,
   "id": "daa0985d-1de3-4c60-bf3f-ad8feac38237",
   "metadata": {},
   "outputs": [],
   "source": [
    "# http://www.schoolinfo.go.kr/openApi.do?apiType=09&pbanYr=2021&schulKndCode=03&apiKey=API_KEY\n",
    " \n",
    "#요청url 잘게 자르기\n",
    "url = \"http://www.schoolinfo.go.kr/openApi.do\"\n",
    "\n",
    "# queryParams = '?' + urlencode({ quote_plus('apiType') : '63', # API 종류 (성별 학생수)\n",
    "#                                 quote_plus('pbanYr') : '2021', # 공시연도 (최근3년간의 정보만 제공)\n",
    "#                                 quote_plus('schulKndCode') : '03', # 학교급구분 (02:초등 03:중등 04:고등 05:특수 06:그외)\n",
    "#                                 quote_plus('apiKey') : 'API_KEY'\n",
    "#                                 })\n",
    "# get_data = requests.get(url + unquote(queryParams), verify=False) # verify=False 없으면 ssl 인증에러남\n",
    "\n",
    "apiType = \"?apiType=63\" # API 종류 (성별 학생수)\n",
    "# pbanYr = \"&pbanYr=2022\" # 공시연도 (최근3년간의 정보만 제공)\n",
    "pbanYr = \"&pbanYr=\"\n",
    "# schulKndCode = \"&schulKndCode=03\" # 학교급구분 (02:초등 03:중등 04:고등 05:특수 06:그외)\n",
    "schulKndCode = \"&schulKndCode=\"\n",
    "\n",
    "# 키 가져오기\n",
    "sys.path.append('/settings')\n",
    "import config\n",
    "apiKey = config.API_Keys['school_info_Key']"
   ]
  },
  {
   "cell_type": "markdown",
   "id": "d409f3d8-e4f3-4be9-9e00-97e150334091",
   "metadata": {},
   "source": [
    "## 학생수 받아오는 함수"
   ]
  },
  {
   "cell_type": "code",
   "execution_count": 3,
   "id": "2f37ae61-1da1-4d8a-9a9a-01edf1eb2213",
   "metadata": {},
   "outputs": [],
   "source": [
    "# 학생수 받아오기\n",
    "def get_students(year, sch_kind):\n",
    "    year = pbanYr + year\n",
    "    sch_kind = schulKndCode + sch_kind\n",
    "    \n",
    "    # URL 및 파라메터 조립, 인증 안함\n",
    "    get_data = requests.get(url + apiType + year + sch_kind + apiKey, verify=False) # verify=False 없으면 ssl 인증에러남\n",
    "    \n",
    "    result_data = get_data.json()\n",
    "    \n",
    "    df = pd.json_normalize(result_data['list'])\n",
    "    \n",
    "    df['년도'] = year[-4:]\n",
    "    \n",
    "    # 원하는 열만 뽑아내기\n",
    "    df = df[['년도',\n",
    "             'ADRCD_NM', # 지역\n",
    "             'SCHUL_NM', # 학교명\n",
    "             'COL_M1', # 1학년(남)\n",
    "             'COL_W1' # 1학년(여)\n",
    "            ]]\n",
    "    \n",
    "    # 열이름 한글변경\n",
    "    df.columns = ['년도', '지역', '학교명', '1학년(남)', '1학년(여)']\n",
    "    \n",
    "    return df"
   ]
  },
  {
   "cell_type": "code",
   "execution_count": 4,
   "id": "29e1fdfd-a957-44fe-b762-a242237d6133",
   "metadata": {},
   "outputs": [
    {
     "name": "stderr",
     "output_type": "stream",
     "text": [
      "C:\\ProgramData\\Miniconda3\\envs\\py3.8.13\\lib\\site-packages\\urllib3\\connectionpool.py:1043: InsecureRequestWarning: Unverified HTTPS request is being made to host 'www.schoolinfo.go.kr'. Adding certificate verification is strongly advised. See: https://urllib3.readthedocs.io/en/1.26.x/advanced-usage.html#ssl-warnings\n",
      "  warnings.warn(\n",
      "C:\\ProgramData\\Miniconda3\\envs\\py3.8.13\\lib\\site-packages\\urllib3\\connectionpool.py:1043: InsecureRequestWarning: Unverified HTTPS request is being made to host 'www.schoolinfo.go.kr'. Adding certificate verification is strongly advised. See: https://urllib3.readthedocs.io/en/1.26.x/advanced-usage.html#ssl-warnings\n",
      "  warnings.warn(\n"
     ]
    },
    {
     "data": {
      "text/html": [
       "<div>\n",
       "<style scoped>\n",
       "    .dataframe tbody tr th:only-of-type {\n",
       "        vertical-align: middle;\n",
       "    }\n",
       "\n",
       "    .dataframe tbody tr th {\n",
       "        vertical-align: top;\n",
       "    }\n",
       "\n",
       "    .dataframe thead th {\n",
       "        text-align: right;\n",
       "    }\n",
       "</style>\n",
       "<table border=\"1\" class=\"dataframe\">\n",
       "  <thead>\n",
       "    <tr style=\"text-align: right;\">\n",
       "      <th></th>\n",
       "      <th>년도</th>\n",
       "      <th>지역</th>\n",
       "      <th>학교명</th>\n",
       "      <th>1학년(남)</th>\n",
       "      <th>1학년(여)</th>\n",
       "    </tr>\n",
       "  </thead>\n",
       "  <tbody>\n",
       "    <tr>\n",
       "      <th>0</th>\n",
       "      <td>2022</td>\n",
       "      <td>서울특별시 성북구</td>\n",
       "      <td>서울대학교사범대학부설중학교</td>\n",
       "      <td>185</td>\n",
       "      <td>0</td>\n",
       "    </tr>\n",
       "    <tr>\n",
       "      <th>1</th>\n",
       "      <td>2022</td>\n",
       "      <td>서울특별시 종로구</td>\n",
       "      <td>서울대학교사범대학부설여자중학교</td>\n",
       "      <td>0</td>\n",
       "      <td>99</td>\n",
       "    </tr>\n",
       "    <tr>\n",
       "      <th>2</th>\n",
       "      <td>2022</td>\n",
       "      <td>서울특별시 강남구</td>\n",
       "      <td>개원중학교</td>\n",
       "      <td>87</td>\n",
       "      <td>162</td>\n",
       "    </tr>\n",
       "    <tr>\n",
       "      <th>3</th>\n",
       "      <td>2022</td>\n",
       "      <td>서울특별시 서초구</td>\n",
       "      <td>경원중학교</td>\n",
       "      <td>177</td>\n",
       "      <td>145</td>\n",
       "    </tr>\n",
       "    <tr>\n",
       "      <th>4</th>\n",
       "      <td>2022</td>\n",
       "      <td>서울특별시 강남구</td>\n",
       "      <td>구룡중학교</td>\n",
       "      <td>118</td>\n",
       "      <td>95</td>\n",
       "    </tr>\n",
       "    <tr>\n",
       "      <th>...</th>\n",
       "      <td>...</td>\n",
       "      <td>...</td>\n",
       "      <td>...</td>\n",
       "      <td>...</td>\n",
       "      <td>...</td>\n",
       "    </tr>\n",
       "    <tr>\n",
       "      <th>3290</th>\n",
       "      <td>2022</td>\n",
       "      <td>제주특별자치도 제주시</td>\n",
       "      <td>한라중학교</td>\n",
       "      <td>144</td>\n",
       "      <td>211</td>\n",
       "    </tr>\n",
       "    <tr>\n",
       "      <th>3291</th>\n",
       "      <td>2022</td>\n",
       "      <td>제주특별자치도 제주시</td>\n",
       "      <td>노형중학교</td>\n",
       "      <td>142</td>\n",
       "      <td>233</td>\n",
       "    </tr>\n",
       "    <tr>\n",
       "      <th>3292</th>\n",
       "      <td>2022</td>\n",
       "      <td>제주특별자치도 제주시</td>\n",
       "      <td>오름중학교</td>\n",
       "      <td>141</td>\n",
       "      <td>142</td>\n",
       "    </tr>\n",
       "    <tr>\n",
       "      <th>3293</th>\n",
       "      <td>2022</td>\n",
       "      <td>제주특별자치도 제주시</td>\n",
       "      <td>탐라중학교</td>\n",
       "      <td>142</td>\n",
       "      <td>117</td>\n",
       "    </tr>\n",
       "    <tr>\n",
       "      <th>3294</th>\n",
       "      <td>2022</td>\n",
       "      <td>제주특별자치도 제주시</td>\n",
       "      <td>제주제일중학교부설방송통신중학교</td>\n",
       "      <td>6</td>\n",
       "      <td>23</td>\n",
       "    </tr>\n",
       "  </tbody>\n",
       "</table>\n",
       "<p>3295 rows × 5 columns</p>\n",
       "</div>"
      ],
      "text/plain": [
       "        년도           지역               학교명  1학년(남)  1학년(여)\n",
       "0     2022    서울특별시 성북구    서울대학교사범대학부설중학교     185       0\n",
       "1     2022    서울특별시 종로구  서울대학교사범대학부설여자중학교       0      99\n",
       "2     2022    서울특별시 강남구             개원중학교      87     162\n",
       "3     2022    서울특별시 서초구             경원중학교     177     145\n",
       "4     2022    서울특별시 강남구             구룡중학교     118      95\n",
       "...    ...          ...               ...     ...     ...\n",
       "3290  2022  제주특별자치도 제주시             한라중학교     144     211\n",
       "3291  2022  제주특별자치도 제주시             노형중학교     142     233\n",
       "3292  2022  제주특별자치도 제주시             오름중학교     141     142\n",
       "3293  2022  제주특별자치도 제주시             탐라중학교     142     117\n",
       "3294  2022  제주특별자치도 제주시  제주제일중학교부설방송통신중학교       6      23\n",
       "\n",
       "[3295 rows x 5 columns]"
      ]
     },
     "execution_count": 4,
     "metadata": {},
     "output_type": "execute_result"
    }
   ],
   "source": [
    "df_mid_grade1 = get_students('2022', '03') # 중1\n",
    "df_high_grade1 = get_students('2022', '04') # 고1\n",
    "\n",
    "# 경고는 verify=False 때문이다.\n",
    "df_mid_grade1"
   ]
  },
  {
   "cell_type": "markdown",
   "id": "080bba04-2911-42f0-ba21-92b239690e46",
   "metadata": {},
   "source": [
    "## 자료 작성기준일 입력"
   ]
  },
  {
   "cell_type": "code",
   "execution_count": 5,
   "id": "3fc735d8-4672-40b0-a347-13f960c8e320",
   "metadata": {},
   "outputs": [],
   "source": [
    "from datetime import datetime"
   ]
  },
  {
   "cell_type": "code",
   "execution_count": 6,
   "id": "fbf58f68-692a-42ac-9103-9b9c0003dd61",
   "metadata": {
    "tags": []
   },
   "outputs": [
    {
     "data": {
      "text/plain": [
       "'20220719'"
      ]
     },
     "execution_count": 6,
     "metadata": {},
     "output_type": "execute_result"
    }
   ],
   "source": [
    "today = datetime.today().strftime(\"%Y%m%d\")\n",
    "today[:8]"
   ]
  },
  {
   "cell_type": "code",
   "execution_count": 7,
   "id": "996ea07c-8e62-4473-9a6d-f89dc4b8c060",
   "metadata": {
    "tags": []
   },
   "outputs": [],
   "source": [
    "# Create a Pandas Excel writer using XlsxWriter as the engine.\n",
    "writer = pd.ExcelWriter(f'학교알리미_{today[:8]}_중고교_학생수.xlsx', engine='xlsxwriter')\n",
    "\n",
    "# Write each dataframe to a different worksheet.\n",
    "df_mid_grade1.to_excel(writer, sheet_name='중학교', index=False)\n",
    "df_high_grade1.to_excel(writer, sheet_name='고등학교', index=False)\n",
    "\n",
    "# Close the Pandas Excel writer and output the Excel file.\n",
    "writer.save()"
   ]
  }
 ],
 "metadata": {
  "kernelspec": {
   "display_name": "Python 3 (ipykernel)",
   "language": "python",
   "name": "python3"
  },
  "language_info": {
   "codemirror_mode": {
    "name": "ipython",
    "version": 3
   },
   "file_extension": ".py",
   "mimetype": "text/x-python",
   "name": "python",
   "nbconvert_exporter": "python",
   "pygments_lexer": "ipython3",
   "version": "3.8.13"
  }
 },
 "nbformat": 4,
 "nbformat_minor": 5
}
